{
 "cells": [
  {
   "cell_type": "code",
   "execution_count": null,
   "id": "894bb8ed",
   "metadata": {},
   "outputs": [],
   "source": [
    "import pandas as pd\n",
    "import matplotlib.pyplot as plt\n",
    "import matplotlib\n",
    "matplotlib.style.use('ggplot')"
   ]
  },
  {
   "cell_type": "code",
   "execution_count": null,
   "id": "bbe817d5",
   "metadata": {},
   "outputs": [],
   "source": [
    "results_raw = pd.read_csv('../results/results.csv')\n",
    "results_raw.head()"
   ]
  },
  {
   "cell_type": "code",
   "execution_count": null,
   "id": "f42a6d45",
   "metadata": {},
   "outputs": [],
   "source": [
    "# results_raw.dtypes"
   ]
  },
  {
   "cell_type": "code",
   "execution_count": null,
   "id": "dc33c9d5",
   "metadata": {},
   "outputs": [],
   "source": [
    "results_avg_by_id = results_raw.groupby(by=['id']).mean()\n",
    "results_avg_by_id.head()"
   ]
  },
  {
   "cell_type": "code",
   "execution_count": null,
   "id": "87b03d88",
   "metadata": {},
   "outputs": [],
   "source": [
    "result_ids_with_other_infos = results_raw.loc[:, ['id', 'fault_profile', 'measurement_seq_start_time', 'cluster_type', 'comment']] \\\n",
    "    .drop_duplicates() \\\n",
    "    .reset_index(drop=True)\n",
    "result_ids_with_other_infos"
   ]
  },
  {
   "cell_type": "code",
   "execution_count": null,
   "id": "cf8f94f2",
   "metadata": {},
   "outputs": [],
   "source": [
    "results_avg_all_info = pd.merge(results_avg_by_id, result_ids_with_other_infos, on='id')\n",
    "\n",
    "# filter out measurement sequence with less than 10 measurements\n",
    "results_avg_all_info = results_avg_all_info[results_avg_all_info['measurement_count'] >= 10]\n",
    "\n",
    "results_avg_all_info"
   ]
  },
  {
   "cell_type": "code",
   "execution_count": null,
   "id": "4fe0149d",
   "metadata": {},
   "outputs": [],
   "source": [
    "results_avg_fault_profile_idx = results_avg_all_info.set_index(results_avg_all_info.loc[:, 'fault_profile'])\n",
    "results_avg_fault_profile_idx"
   ]
  },
  {
   "cell_type": "code",
   "execution_count": null,
   "id": "4181b590",
   "metadata": {},
   "outputs": [],
   "source": [
    "# Availability on average per fault profiles\n",
    "ax = results_avg_fault_profile_idx.loc[:, 'availability'].plot.bar()\n",
    "for p in ax.patches:\n",
    "    ax.annotate('{:.3f}'.format(p.get_height()), (p.get_x() - 0.06, p.get_height() + 0.01))"
   ]
  },
  {
   "cell_type": "code",
   "execution_count": null,
   "id": "b0623723",
   "metadata": {},
   "outputs": [],
   "source": [
    "# MUT, MDT, MTBF on average per fault profiles\n",
    "#  .legend(prop={'size': 50}\n",
    "ax = results_avg_fault_profile_idx.loc[:, ['mut', 'mdt', 'mtbf']] \\\n",
    "    .plot.bar(figsize=(20, 15), fontsize=18)\n",
    "for p in ax.patches:\n",
    "    ax.annotate('{:.3f}'.format(p.get_height()), (p.get_x() - 0.06, p.get_height() + 5))"
   ]
  },
  {
   "cell_type": "code",
   "execution_count": null,
   "id": "db2aa610",
   "metadata": {},
   "outputs": [],
   "source": [
    "### All measurements where meas count is at least 10\n",
    "results = results_raw[results_raw['measurement_count'] >= 10].reset_index(drop=True)\n",
    "results"
   ]
  },
  {
   "cell_type": "code",
   "execution_count": null,
   "id": "25f2aa30",
   "metadata": {},
   "outputs": [],
   "source": [
    "# Availability distribution of all measurements per fault profiles\n",
    "availability_all = results.loc[:, ['availability', 'fault_profile']]\n",
    "\n",
    "availability_all.pivot(columns='fault_profile') \\\n",
    "    .plot.box(by='fault_profile', figsize=(20,15), fontsize=10)"
   ]
  },
  {
   "cell_type": "code",
   "execution_count": null,
   "id": "25b61101",
   "metadata": {},
   "outputs": [],
   "source": [
    "\n"
   ]
  },
  {
   "cell_type": "code",
   "execution_count": null,
   "id": "d167790f",
   "metadata": {},
   "outputs": [],
   "source": []
  }
 ],
 "metadata": {
  "kernelspec": {
   "display_name": "Python 3",
   "language": "python",
   "name": "python3"
  },
  "language_info": {
   "codemirror_mode": {
    "name": "ipython",
    "version": 3
   },
   "file_extension": ".py",
   "mimetype": "text/x-python",
   "name": "python",
   "nbconvert_exporter": "python",
   "pygments_lexer": "ipython3",
   "version": "3.8.8"
  }
 },
 "nbformat": 4,
 "nbformat_minor": 5
}
